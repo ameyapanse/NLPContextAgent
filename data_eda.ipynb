{
 "cells": [
  {
   "cell_type": "code",
   "execution_count": 30,
   "metadata": {},
   "outputs": [],
   "source": [
    "import pandas as pd\n",
    "import numpy as np\n",
    "import os\n",
    "\n",
    "from langchain.document_loaders import PyPDFLoader"
   ]
  },
  {
   "cell_type": "code",
   "execution_count": 31,
   "metadata": {},
   "outputs": [],
   "source": [
    "file_folders = os.listdir('./data')"
   ]
  },
  {
   "cell_type": "code",
   "execution_count": 32,
   "metadata": {},
   "outputs": [
    {
     "data": {
      "text/plain": [
       "'/home/sidd/workspace/NLPContextAgent'"
      ]
     },
     "execution_count": 32,
     "metadata": {},
     "output_type": "execute_result"
    }
   ],
   "source": [
    "root_dir = os.getcwd()\n",
    "\n",
    "root_dir\n"
   ]
  },
  {
   "cell_type": "code",
   "execution_count": 33,
   "metadata": {},
   "outputs": [
    {
     "name": "stdout",
     "output_type": "stream",
     "text": [
      "cs324 - 15\n",
      "cs231n - 28\n",
      "cs234 - 15\n"
     ]
    }
   ],
   "source": [
    "for file_folder in file_folders:\n",
    "\n",
    "    folder_path = os.path.join(root_dir,'data',file_folder)\n",
    "\n",
    "    lecture_notes = os.listdir(folder_path)\n",
    "\n",
    "    print(file_folder, '-' ,len(lecture_notes))"
   ]
  },
  {
   "cell_type": "code",
   "execution_count": 37,
   "metadata": {},
   "outputs": [],
   "source": [
    "# lecture_note_path"
   ]
  },
  {
   "cell_type": "code",
   "execution_count": 36,
   "metadata": {},
   "outputs": [],
   "source": [
    "# loader = PyPDFLoader(lecture_note_path)\n",
    "# pages = loader.load_and_split()"
   ]
  },
  {
   "cell_type": "code",
   "execution_count": 38,
   "metadata": {},
   "outputs": [],
   "source": [
    "# len(pages)"
   ]
  },
  {
   "cell_type": "code",
   "execution_count": 39,
   "metadata": {},
   "outputs": [],
   "source": [
    "# pages[2].page_content"
   ]
  },
  {
   "cell_type": "code",
   "execution_count": 40,
   "metadata": {},
   "outputs": [
    {
     "name": "stdout",
     "output_type": "stream",
     "text": [
      "/home/sidd/workspace/NLPContextAgent/data/cs324\n",
      "\n",
      "training.md 15728\n",
      "security.md 589\n",
      "harms-2.md 24543\n",
      "legality.md 19424\n",
      "harms-1.md 14092\n",
      "data.md 20736\n",
      "modeling.md 31063\n",
      "environment.md 16875\n",
      "adaptation.md 17066\n",
      "capabilities.md 28875\n",
      "scaling-laws.md 531\n",
      "table.md 11055\n",
      "parallelism.md 1362\n",
      "selective-architectures.md 25746\n",
      "introduction.md 35460\n",
      "\n",
      "average char:  17543.0  average tokens:  2209.4\n",
      "\n",
      "/home/sidd/workspace/NLPContextAgent/data/cs231n\n",
      "\n",
      "generative-modeling.md 23683\n",
      "linear-classify.md 42416\n",
      "optimization-1.md 28245\n",
      "convnet-tips.md 490\n",
      "python-numpy-tutorial.md 40062\n",
      "understanding-cnn.md 9273\n",
      "nerf.md 7100\n",
      "pixelrnn.md 7236\n",
      "terminal-tutorial.md 3125\n",
      "neural-networks-3.md 46034\n",
      "transfer-learning.md 7012\n",
      "neural-networks-2.md 37186\n",
      "overview.md 365\n",
      "poster-2018.md 15377\n",
      "optimization-2.md 40488\n",
      "convolutional-networks.md 58488\n",
      "jupyter-colab-tutorial.md 4309\n",
      "neural-networks-1.md 31114\n",
      "adversary-attacks.md 24900\n",
      "generative-models.md 31673\n",
      "attention.md 12880\n",
      "rnn.md 20507\n",
      "classification.md 31745\n",
      "poster.md 21043\n",
      "neural-networks-case-study.md 18748\n",
      "aws-tutorial.md 6190\n",
      "transformers.md 9453\n",
      "choose-project.md 19289\n",
      "\n",
      "average char:  21372.535714285714  average tokens:  3201.535714285714\n",
      "\n",
      "/home/sidd/workspace/NLPContextAgent/data/cs234\n",
      "\n",
      "lecture03_wa.pdf 30248\n",
      "lecture07_postclass.pdf 17653\n",
      "lecture11_postclass.pdf 27940\n",
      "lecture13_postclass.pdf 13667\n",
      "lecture12_postclass.pdf 28372\n",
      "lecture08_postclass.pdf 22509\n",
      "lecture04_wa.pdf 22067\n",
      "lecture02.pdf 24884\n",
      "lecture15_postclass.pdf 25121\n",
      "lecture_06_postclass.pdf 25524\n",
      "lecture05_postclass.pdf 19856\n",
      "lecture10_1.pdf 15218\n",
      "lecture16_postclass.pdf 18957\n",
      "lecture09_postclass.pdf 26113\n",
      "lecture01.pdf 22704\n",
      "\n",
      "average char:  22722.2  average tokens:  3365.5333333333333\n",
      "\n"
     ]
    }
   ],
   "source": [
    "for file_folder in file_folders:\n",
    "\n",
    "    folder_path = os.path.join(root_dir,'data',file_folder)\n",
    "\n",
    "    lecture_notes = os.listdir(folder_path)\n",
    "\n",
    "    print(folder_path)\n",
    "    print()\n",
    "\n",
    "    total_char,total_token = 0,0\n",
    "\n",
    "    for lecture_note in lecture_notes:\n",
    "\n",
    "        lecture_note_path = os.path.join(folder_path,lecture_note)\n",
    "\n",
    "        if lecture_note_path.split('.')[-1] == 'md':\n",
    "            with open(lecture_note_path,'r') as f:\n",
    "                text = f.read()\n",
    "\n",
    "\n",
    "        elif lecture_note_path.split('.')[-1] == 'pdf':\n",
    "            loader = PyPDFLoader(lecture_note_path)\n",
    "            pages = loader.load_and_split()\n",
    "\n",
    "            text = \"\"\n",
    "            \n",
    "            for page in pages:\n",
    "                text += page.page_content\n",
    "\n",
    "        print(lecture_note,len(text))\n",
    "        total_char += len(text)\n",
    "        total_token += len(text.split())\n",
    "\n",
    "    print()\n",
    "    print('average char: ',total_char/len(lecture_notes),\" average tokens: \",total_token/len(lecture_notes))\n",
    "        \n",
    "    print()"
   ]
  },
  {
   "cell_type": "code",
   "execution_count": null,
   "metadata": {},
   "outputs": [],
   "source": []
  }
 ],
 "metadata": {
  "kernelspec": {
   "display_name": "nlp",
   "language": "python",
   "name": "python3"
  },
  "language_info": {
   "codemirror_mode": {
    "name": "ipython",
    "version": 3
   },
   "file_extension": ".py",
   "mimetype": "text/x-python",
   "name": "python",
   "nbconvert_exporter": "python",
   "pygments_lexer": "ipython3",
   "version": "3.11.3"
  },
  "orig_nbformat": 4
 },
 "nbformat": 4,
 "nbformat_minor": 2
}
